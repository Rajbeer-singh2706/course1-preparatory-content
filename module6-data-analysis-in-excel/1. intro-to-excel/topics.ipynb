{
 "cells": [
  {
   "cell_type": "code",
   "execution_count": 2,
   "metadata": {},
   "outputs": [
    {
     "data": {
      "text/plain": [
       "'\\n    - Understanding the Excel interface\\n    - Sort and Filter\\n    - Report Making: Basic and Advanced formatting \\n    - Printing and Page Layouts\\n    - Passwords and Naming Files\\n'"
      ]
     },
     "execution_count": 2,
     "metadata": {},
     "output_type": "execute_result"
    }
   ],
   "source": [
    "# Introduction\n",
    "'''\n",
    "    - Understanding the Excel interface\n",
    "    - Sort and Filter\n",
    "    - Report Making: Basic and Advanced formatting \n",
    "    - Printing and Page Layouts\n",
    "    - Passwords and Naming Files\n",
    "'''"
   ]
  },
  {
   "cell_type": "code",
   "execution_count": 3,
   "metadata": {},
   "outputs": [
    {
     "data": {
      "text/plain": [
       "\"\\nBut before we start analysing the dataset, let's understand what we're going to accomplish in this session. \\n\\nThe Hospital Charges dataset has more than 150,000 records of treatment of various ailments in several US hospitals. \\nSome stats about the dataset:\\n\\n- The dataset has a record of 100 ailments\\n- It has a list of 3000+ healthcare providers (hospitals, medical centres, etc.)\\n- It has data from 50 states of the USA and approximately 2000 cities across the USA\\n- It describes the cost of treatment for approximately 7 million patients\\n- Each record (or row) is a unique combination of state, city, ailment & provider. It also lists the average cost of treatment for a \\nparticular ailment.\\n\\n\""
      ]
     },
     "execution_count": 3,
     "metadata": {},
     "output_type": "execute_result"
    }
   ],
   "source": [
    "# Understanding the Excel Interface\n",
    "'''\n",
    "But before we start analysing the dataset, let's understand what we're going to accomplish in this session. \n",
    "\n",
    "The Hospital Charges dataset has more than 150,000 records of treatment of various ailments in several US hospitals. \n",
    "Some stats about the dataset:\n",
    "\n",
    "- The dataset has a record of 100 ailments\n",
    "- It has a list of 3000+ healthcare providers (hospitals, medical centres, etc.)\n",
    "- It has data from 50 states of the USA and approximately 2000 cities across the USA\n",
    "- It describes the cost of treatment for approximately 7 million patients\n",
    "- Each record (or row) is a unique combination of state, city, ailment & provider. It also lists the average cost of treatment for a \n",
    "particular ailment.\n",
    "\n",
    "'''"
   ]
  },
  {
   "cell_type": "code",
   "execution_count": 4,
   "metadata": {},
   "outputs": [
    {
     "data": {
      "text/plain": [
       "'\\n- The most common task people do in Excel is to search for useful data. For example, you may want to know the cheapest hospital for chest pain\\n treatment. Or you may want to know the most expensive healthcare treatments in a particular region of the country. \\n\\n- The sort and filter operations are meant to do these type of analyses. Sorting means to arrange the data (typically a column) in increasing, \\ndecreasing or alphabetical order. Filters, as the name suggests, enable you to filter out certain data, like all the hospitals in Alabama or \\nall the hospitals treating chest pain. \\n\\n'"
      ]
     },
     "execution_count": 4,
     "metadata": {},
     "output_type": "execute_result"
    }
   ],
   "source": [
    "# Slicing and Dicing Data - Sort and Filter\n",
    "'''\n",
    "- The most common task people do in Excel is to search for useful data. For example, you may want to know the cheapest hospital for chest pain\n",
    " treatment. Or you may want to know the most expensive healthcare treatments in a particular region of the country. \n",
    "\n",
    "- The sort and filter operations are meant to do these type of analyses. Sorting means to arrange the data (typically a column) in increasing, \n",
    "decreasing or alphabetical order. Filters, as the name suggests, enable you to filter out certain data, like all the hospitals in Alabama or \n",
    "all the hospitals treating chest pain. \n",
    "\n",
    "'''"
   ]
  },
  {
   "cell_type": "code",
   "execution_count": 5,
   "metadata": {},
   "outputs": [
    {
     "data": {
      "text/plain": [
       "'\\nIn this segment, you learnt the sort and filter operations. The key takeaways from the session are:\\n\\n- Searching can be done using Ctrl + F or by filtering data  \\n- Sorting can be done on numbers (increasing / decreasing ) and characters (A-Z / Z-A)   \\n- Sorting works only when the data is in the correct format\\n- Custom Sort can be used to apply multi - level sort\\n\\n'"
      ]
     },
     "execution_count": 5,
     "metadata": {},
     "output_type": "execute_result"
    }
   ],
   "source": [
    "# \n",
    "'''\n",
    "Sort and filter are probably the most commonly used operations. In fact, filtering is so common that we recommend you to memorise\n",
    " it's shortcut - Ctrl/Cmd + Shift + L.\n",
    "\n",
    "\n",
    "Remember that sorting only works when the data is in the correct format. Next, you'll learn how to sort data on multiple levels simultaneously. For example, you may want to sort all states in a country alphabetically and within each state sort all hospitals from highest to lowest cost or within each state sort hospitals alphabetically. This cannot be done by simply applying the sort twice because the second sort operation overrides the first one. \n",
    "\n",
    "You'll need to use custom sort to apply a sort operation within an already sorted range. You can also think of this as a Multi-Level Sort.\n",
    "'''\n",
    "\n",
    "# \n",
    "'''\n",
    "In this segment, you learnt the sort and filter operations. The key takeaways from the session are:\n",
    "\n",
    "- Searching can be done using Ctrl + F or by filtering data  \n",
    "- Sorting can be done on numbers (increasing / decreasing ) and characters (A-Z / Z-A)   \n",
    "- Sorting works only when the data is in the correct format\n",
    "- Custom Sort can be used to apply multi - level sort\n",
    "\n",
    "'''"
   ]
  },
  {
   "cell_type": "code",
   "execution_count": 6,
   "metadata": {},
   "outputs": [
    {
     "data": {
      "text/plain": [
       "'\\nMaking a great report is like being a good boyfriend - you have to get lots of small things right! You have to get the numbers to the \\nright decimal places, use colours to highlight important rows, create borders, hide unimportant columns etc.\\n\\nIn this segment, you will learn the basics of making a good report - hiding or deleting unimportant columns, freezing rows or columns for \\nbetter readability, getting numbers in readable formats etc. In the process, you will also learn ways to use shortcuts so that you can save time. \\n\\nNote: From this segment onwards, we recommend you to create a report using the hospital charges dataset as you watch the lectures. Also, \\nexperiment with the various formatting options\\n'"
      ]
     },
     "execution_count": 6,
     "metadata": {},
     "output_type": "execute_result"
    }
   ],
   "source": [
    "# Report Making I: Basic Formatting\n",
    "'''\n",
    "Making a great report is like being a good boyfriend - you have to get lots of small things right! You have to get the numbers to the \n",
    "right decimal places, use colours to highlight important rows, create borders, hide unimportant columns etc.\n",
    "\n",
    "In this segment, you will learn the basics of making a good report - hiding or deleting unimportant columns, freezing rows or columns for \n",
    "better readability, getting numbers in readable formats etc. In the process, you will also learn ways to use shortcuts so that you can save time. \n",
    "\n",
    "Note: From this segment onwards, we recommend you to create a report using the hospital charges dataset as you watch the lectures. Also, \n",
    "experiment with the various formatting options\n",
    "'''\n",
    "#\n",
    "'''\n",
    "You may have noted that small things like hiding irrelevant information, getting the right widths of columns etc. make a huge difference in the\n",
    "readability of the report. Next, you will learn number formatting which is basically a way to get the numbers in the right units and to the \n",
    "correct number of decimals. Also, pay attention to the shortcuts being mentioned and try to get habitual to them. \n",
    "'''\n",
    "#\n",
    "'''\n",
    "Getting numbers in the right formats and units makes the analysis easier and reduces the chances of mistakes when reading the data. Note that\n",
    "a lot of formatting operations we have discussed are not only aimed at improving readability but also to reduce the amount of time spent on \n",
    "reading the file. Hiding columns, formatting numbers, using shortcuts etc. are all ways to improve both readability and efficiency. \n",
    "\n",
    "Another commonly used operation used for the same purpose is freezing panes, which you'll learn next.\n",
    "'''\n",
    "\n",
    "#\n",
    "'''\n",
    "To summarise, you learnt some tasks that make a report readable - hiding or deleting data, number formats, freezing panes etc.\n",
    "A few things worth remembering are:\n",
    "\n",
    "You should only delete data when you are sure that you will never need them, else you should just hide them\n",
    "To freeze rows and columns apart from the first row /column, choose the first cell inside the table formed by\n",
    "the rows and columns to be frozen  \n",
    " \n",
    "Having learnt basic formatting, this is only the tip of the iceberg. In the next segment, you will learn conditional formatting \n",
    "which is a critical ingredient in making excellent reports.\n",
    "'''"
   ]
  },
  {
   "cell_type": "code",
   "execution_count": null,
   "metadata": {},
   "outputs": [],
   "source": []
  }
 ],
 "metadata": {
  "kernelspec": {
   "display_name": "Python 3",
   "language": "python",
   "name": "python3"
  },
  "language_info": {
   "codemirror_mode": {
    "name": "ipython",
    "version": 3
   },
   "file_extension": ".py",
   "mimetype": "text/x-python",
   "name": "python",
   "nbconvert_exporter": "python",
   "pygments_lexer": "ipython3",
   "version": "3.9.12"
  }
 },
 "nbformat": 4,
 "nbformat_minor": 2
}
